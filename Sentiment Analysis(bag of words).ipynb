{
 "cells": [
  {
   "cell_type": "code",
   "execution_count": 1,
   "id": "78164656",
   "metadata": {},
   "outputs": [],
   "source": [
    "import pandas as pd\n",
    "import numpy as np\n",
    "import string\n",
    "import re\n",
    "from sklearn.model_selection import train_test_split\n",
    "from sklearn.feature_extraction.text import CountVectorizer, TfidfVectorizer\n",
    "from sklearn.linear_model import LogisticRegression\n",
    "from sklearn.metrics import accuracy_score\n",
    "from nltk.corpus import stopwords\n",
    "from nltk.stem import PorterStemmer\n",
    "from nltk.tokenize import word_tokenize\n",
    "import nltk"
   ]
  },
  {
   "cell_type": "code",
   "execution_count": 2,
   "id": "e17ec3b2",
   "metadata": {},
   "outputs": [
    {
     "name": "stderr",
     "output_type": "stream",
     "text": [
      "[nltk_data] Downloading package punkt to\n",
      "[nltk_data]     C:\\Users\\Shreya\\AppData\\Roaming\\nltk_data...\n",
      "[nltk_data]   Package punkt is already up-to-date!\n",
      "[nltk_data] Downloading package stopwords to\n",
      "[nltk_data]     C:\\Users\\Shreya\\AppData\\Roaming\\nltk_data...\n",
      "[nltk_data]   Package stopwords is already up-to-date!\n"
     ]
    },
    {
     "data": {
      "text/plain": [
       "True"
      ]
     },
     "execution_count": 2,
     "metadata": {},
     "output_type": "execute_result"
    }
   ],
   "source": [
    "nltk.download('punkt')\n",
    "nltk.download('stopwords')"
   ]
  },
  {
   "cell_type": "code",
   "execution_count": 3,
   "id": "88d12020",
   "metadata": {},
   "outputs": [
    {
     "name": "stdout",
     "output_type": "stream",
     "text": [
      "                                              review sentiment\n",
      "0  One of the other reviewers has mentioned that ...  positive\n",
      "1  A wonderful little production. <br /><br />The...  positive\n",
      "2  I thought this was a wonderful way to spend ti...  positive\n",
      "3  Basically there's a family where a little boy ...  negative\n",
      "4  Petter Mattei's \"Love in the Time of Money\" is...  positive\n"
     ]
    }
   ],
   "source": [
    "#Load the dataset\n",
    "import pandas as pd\n",
    "df = pd.read_csv(r\"D:\\Downloads\\archive (3)\\IMDB Dataset.csv\") \n",
    "print(df.head())"
   ]
  },
  {
   "cell_type": "code",
   "execution_count": 4,
   "id": "b84a43c5",
   "metadata": {},
   "outputs": [
    {
     "name": "stdout",
     "output_type": "stream",
     "text": [
      "                                              review  \\\n",
      "0  One of the other reviewers has mentioned that ...   \n",
      "1  A wonderful little production. <br /><br />The...   \n",
      "2  I thought this was a wonderful way to spend ti...   \n",
      "3  Basically there's a family where a little boy ...   \n",
      "4  Petter Mattei's \"Love in the Time of Money\" is...   \n",
      "\n",
      "                                    tokenized_review  \n",
      "0  [One, of, the, other, reviewers, has, mentione...  \n",
      "1  [A, wonderful, little, production, ., <, br, /...  \n",
      "2  [I, thought, this, was, a, wonderful, way, to,...  \n",
      "3  [Basically, there, 's, a, family, where, a, li...  \n",
      "4  [Petter, Mattei, 's, ``, Love, in, the, Time, ...  \n"
     ]
    }
   ],
   "source": [
    "#Tokenization\n",
    "df['tokenized_review'] = df['review'].apply(word_tokenize)\n",
    "print(df[['review', 'tokenized_review']].head())"
   ]
  },
  {
   "cell_type": "code",
   "execution_count": 5,
   "id": "cc017e46",
   "metadata": {},
   "outputs": [
    {
     "name": "stdout",
     "output_type": "stream",
     "text": [
      "                                              review  \\\n",
      "0  One of the other reviewers has mentioned that ...   \n",
      "1  A wonderful little production. <br /><br />The...   \n",
      "2  I thought this was a wonderful way to spend ti...   \n",
      "3  Basically there's a family where a little boy ...   \n",
      "4  Petter Mattei's \"Love in the Time of Money\" is...   \n",
      "\n",
      "                                   lowercased_review  \n",
      "0  one of the other reviewers has mentioned that ...  \n",
      "1  a wonderful little production. <br /><br />the...  \n",
      "2  i thought this was a wonderful way to spend ti...  \n",
      "3  basically there's a family where a little boy ...  \n",
      "4  petter mattei's \"love in the time of money\" is...  \n"
     ]
    }
   ],
   "source": [
    "#Lowercasing\n",
    "df['lowercased_review'] = df['review'].apply(lambda x: x.lower())\n",
    "print(df[['review', 'lowercased_review']].head())\n"
   ]
  },
  {
   "cell_type": "code",
   "execution_count": 6,
   "id": "92c3c237",
   "metadata": {},
   "outputs": [
    {
     "name": "stderr",
     "output_type": "stream",
     "text": [
      "[nltk_data] Downloading package stopwords to\n",
      "[nltk_data]     C:\\Users\\Shreya\\AppData\\Roaming\\nltk_data...\n",
      "[nltk_data]   Package stopwords is already up-to-date!\n"
     ]
    },
    {
     "name": "stdout",
     "output_type": "stream",
     "text": [
      "                                              review  \\\n",
      "0  One of the other reviewers has mentioned that ...   \n",
      "1  A wonderful little production. <br /><br />The...   \n",
      "2  I thought this was a wonderful way to spend ti...   \n",
      "3  Basically there's a family where a little boy ...   \n",
      "4  Petter Mattei's \"Love in the Time of Money\" is...   \n",
      "\n",
      "                                   lowercased_review  \\\n",
      "0  one of the other reviewers has mentioned that ...   \n",
      "1  a wonderful little production. <br /><br />the...   \n",
      "2  i thought this was a wonderful way to spend ti...   \n",
      "3  basically there's a family where a little boy ...   \n",
      "4  petter mattei's \"love in the time of money\" is...   \n",
      "\n",
      "                                 no_stopwords_review  \n",
      "0  one reviewers mentioned watching 1 oz episode ...  \n",
      "1  wonderful little production . < br / > < br / ...  \n",
      "2  thought wonderful way spend time hot summer we...  \n",
      "3  basically 's family little boy ( jake ) thinks...  \n",
      "4  petter mattei 's `` love time money '' visuall...  \n"
     ]
    }
   ],
   "source": [
    "#stop words \n",
    "import nltk\n",
    "from nltk.corpus import stopwords\n",
    "from nltk.tokenize import word_tokenize\n",
    "nltk.download('stopwords')\n",
    "stop_words = set(stopwords.words('english'))\n",
    "def remove_stopwords(text):\n",
    "    tokens = word_tokenize(text)  \n",
    "    filtered_words = [word for word in tokens if word not in stop_words]\n",
    "    return ' '.join(filtered_words)  \n",
    "df['no_stopwords_review'] = df['lowercased_review'].apply(remove_stopwords)\n",
    "print(df[['review', 'lowercased_review', 'no_stopwords_review']].head())\n"
   ]
  },
  {
   "cell_type": "code",
   "execution_count": 7,
   "id": "f0c3de48",
   "metadata": {},
   "outputs": [
    {
     "name": "stdout",
     "output_type": "stream",
     "text": [
      "                                              review  \\\n",
      "0  One of the other reviewers has mentioned that ...   \n",
      "1  A wonderful little production. <br /><br />The...   \n",
      "2  I thought this was a wonderful way to spend ti...   \n",
      "3  Basically there's a family where a little boy ...   \n",
      "4  Petter Mattei's \"Love in the Time of Money\" is...   \n",
      "\n",
      "                                 no_stopwords_review  \\\n",
      "0  one reviewers mentioned watching 1 oz episode ...   \n",
      "1  wonderful little production . < br / > < br / ...   \n",
      "2  thought wonderful way spend time hot summer we...   \n",
      "3  basically 's family little boy ( jake ) thinks...   \n",
      "4  petter mattei 's `` love time money '' visuall...   \n",
      "\n",
      "                               no_punctuation_review  \n",
      "0  one reviewers mentioned watching 1 oz episode ...  \n",
      "1  wonderful little production   br    br   filmi...  \n",
      "2  thought wonderful way spend time hot summer we...  \n",
      "3  basically s family little boy  jake  thinks s ...  \n",
      "4  petter mattei s  love time money  visually stu...  \n"
     ]
    }
   ],
   "source": [
    "\n",
    "#remove punctuation\n",
    "def remove_punctuation(text):\n",
    "    return text.translate(str.maketrans('', '', string.punctuation))\n",
    "df['no_punctuation_review'] = df['no_stopwords_review'].apply(remove_punctuation)\n",
    "print(df[['review', 'no_stopwords_review', 'no_punctuation_review']].head())\n"
   ]
  },
  {
   "cell_type": "code",
   "execution_count": 8,
   "id": "2cc58dbc",
   "metadata": {},
   "outputs": [
    {
     "name": "stdout",
     "output_type": "stream",
     "text": [
      "                                              review  \\\n",
      "0  One of the other reviewers has mentioned that ...   \n",
      "1  A wonderful little production. <br /><br />The...   \n",
      "2  I thought this was a wonderful way to spend ti...   \n",
      "3  Basically there's a family where a little boy ...   \n",
      "4  Petter Mattei's \"Love in the Time of Money\" is...   \n",
      "\n",
      "                               no_punctuation_review  \\\n",
      "0  one reviewers mentioned watching 1 oz episode ...   \n",
      "1  wonderful little production   br    br   filmi...   \n",
      "2  thought wonderful way spend time hot summer we...   \n",
      "3  basically s family little boy  jake  thinks s ...   \n",
      "4  petter mattei s  love time money  visually stu...   \n",
      "\n",
      "                                      stemmed_review  \n",
      "0  one review mention watch 1 oz episod ll hook r...  \n",
      "1  wonder littl product br br film techniqu unass...  \n",
      "2  thought wonder way spend time hot summer weeke...  \n",
      "3  basic s famili littl boy jake think s zombi cl...  \n",
      "4  petter mattei s love time money visual stun fi...  \n"
     ]
    }
   ],
   "source": [
    "#Stemming\n",
    "from nltk.stem import PorterStemmer\n",
    "from nltk.tokenize import word_tokenize\n",
    "stemmer = PorterStemmer()\n",
    "def apply_stemming(text):\n",
    "    tokens = word_tokenize(text)  \n",
    "    stemmed_words = [stemmer.stem(word) for word in tokens]  \n",
    "    return ' '.join(stemmed_words)  \n",
    "\n",
    "df['stemmed_review'] = df['no_punctuation_review'].apply(apply_stemming)\n",
    "print(df[['review', 'no_punctuation_review', 'stemmed_review']].head())\n"
   ]
  },
  {
   "cell_type": "code",
   "execution_count": 10,
   "id": "e089f45e",
   "metadata": {},
   "outputs": [
    {
     "name": "stdout",
     "output_type": "stream",
     "text": [
      "Shape of BoW matrix: (50000, 105761)\n"
     ]
    }
   ],
   "source": [
    "#Bag of words\n",
    "from sklearn.feature_extraction.text import CountVectorizer\n",
    "vectorizer = CountVectorizer()\n",
    "X_bow = vectorizer.fit_transform(df['stemmed_review'])\n",
    "print(f\"Shape of BoW matrix: {X_bow.shape}\")"
   ]
  },
  {
   "cell_type": "code",
   "execution_count": 23,
   "id": "ddc07cb9",
   "metadata": {},
   "outputs": [
    {
     "name": "stdout",
     "output_type": "stream",
     "text": [
      "Accuracy: 0.86\n"
     ]
    }
   ],
   "source": [
    "from sklearn.model_selection import train_test_split\n",
    "from sklearn.naive_bayes import MultinomialNB\n",
    "from sklearn.metrics import accuracy_score\n",
    "X_train, X_test, y_train, y_test = train_test_split(X_bow, df['sentiment'], test_size=0.1, random_state=200)\n",
    "classifier = MultinomialNB()\n",
    "classifier.fit(X_train, y_train)\n",
    "y_pred = classifier.predict(X_test)\n",
    "accuracy = accuracy_score(y_test, y_pred)\n",
    "print(f\"Accuracy: {accuracy:.2f}\")"
   ]
  },
  {
   "cell_type": "code",
   "execution_count": null,
   "id": "b4b53bf4",
   "metadata": {},
   "outputs": [],
   "source": []
  }
 ],
 "metadata": {
  "kernelspec": {
   "display_name": "Python 3 (ipykernel)",
   "language": "python",
   "name": "python3"
  },
  "language_info": {
   "codemirror_mode": {
    "name": "ipython",
    "version": 3
   },
   "file_extension": ".py",
   "mimetype": "text/x-python",
   "name": "python",
   "nbconvert_exporter": "python",
   "pygments_lexer": "ipython3",
   "version": "3.11.5"
  }
 },
 "nbformat": 4,
 "nbformat_minor": 5
}
